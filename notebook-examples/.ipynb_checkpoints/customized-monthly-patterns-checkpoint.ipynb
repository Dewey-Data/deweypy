{
 "cells": [
  {
   "cell_type": "markdown",
   "id": "7896032a-533a-4af7-ba0d-6d5445da678f",
   "metadata": {},
   "source": [
    "# Customized Monthly Patterns Example"
   ]
  },
  {
   "cell_type": "markdown",
   "id": "d10cfccc-c0cf-45bb-911f-8e9edadeb223",
   "metadata": {},
   "source": [
    "## Overview\n",
    "\n",
    "In this example, we will:\n",
    "1. Navigate to the Foot Traffic / Monthly Patterns Dataset on Dewey.\n",
    "2. Select \"Get Data\".\n",
    "3. Review and accept license terms.\n",
    "4. Choose to \"Customize Data\" from Foot Traffic / Monthly Patterns instead of downloading all of it.\n",
    "5. Finish customizing the data, and continue on to downloading that customized data."
   ]
  },
  {
   "cell_type": "markdown",
   "id": "58ce52a6-7584-4a47-8fc9-57e651fda66a",
   "metadata": {},
   "source": [
    "### 1. Navigate to the Foot Traffic / Monthly Patterns Dataset on Dewey.\n",
    "\n",
    "Go to [The dataset page](https://app.deweydata.io/data/advan/monthly-patterns-foot-traffic-container/monthly-patterns-foot-traffic)\n",
    "\n",
    "(If you can't access or the link is invalid, search \"Foot Traffic\" on the site and you should be able to find it.)"
   ]
  },
  {
   "cell_type": "markdown",
   "id": "1271e984-631f-4547-8565-87df363f6b75",
   "metadata": {},
   "source": [
    "### 2. Click Get Data\n",
    "\n",
    "Click \"Get Data\", currently in the upper right (although may vary depending on screen size)."
   ]
  },
  {
   "cell_type": "markdown",
   "id": "26e5da1c-1136-4cc2-9292-0333251b66f6",
   "metadata": {},
   "source": [
    "### 3. Review and Accept License Terms\n",
    "\n",
    "You'll see data-provider specific license terms. Review and accept those if you'd like to proceed."
   ]
  },
  {
   "cell_type": "markdown",
   "id": "ec5d7b14-addb-4223-bdd3-8d3708726dcb",
   "metadata": {},
   "source": [
    "### 4. Customize Data\n",
    "\n",
    "Use the filters on the left to select:\n",
    "1. The columns you care about. For this example I'll select all of them, but, you should only include the columns you care about.\n",
    "2. The filters that are relevant to your research. For this example, I'm going to select the US states of AK (Alaska) and WY (Wyoming) as the \"Region\"s that I care about.\n",
    "\n",
    "Once you've narrowed down to the columns and filters you want, click \"Generate Data\" to refresh the preview. Take a quick glance at the preview and make sure it looks like the data you'd want.\n",
    "\n",
    "For mine, I see the data I want, and I see:\n",
    "* Row Count Reduction Progress &nbsp;&nbsp;&nbsp; 4,385,129 rows &nbsp;&nbsp;&nbsp; 0.42%\n",
    "* Target: 206,656,143 (reduction to 20% recommended)\n",
    "\n",
    "Once you're ready, click \"Get Data\".\n",
    "\n",
    "It may take a few minutes for the data to be prepared for download. You'll get an email when it's done/ready. For this example, I got an email with the subject \"Customized Dataset Ready for Download\" and I followed the instructions in the email to open my customized dataset. I clicked \"Get Data\" on the customized dataset in \"My Datasets\" and see:\n",
    "* Rows: 4,385,129\n",
    "* Columns: 53\n",
    "* Size: 3.12 GB\n",
    "* Options:\n",
    "  * This file is too large to download as a CSV &nbsp;&nbsp;&nbsp; Download limits: 2GB\n",
    "  * Bulk API &nbsp;&nbsp;&nbsp; >\n",
    "\n",
    "Since it's too large to download the CSV directly (and we want to showcase Python Client + API usage here anyway), we'll click on \"Bulk API\" to get to the next screen."
   ]
  },
  {
   "cell_type": "markdown",
   "id": "d5ea85e7-fe6e-4ba3-ad94-cc08975da562",
   "metadata": {},
   "source": [
    "### 5. Copy API URL and API Key\n",
    "\n",
    "You'll see an API URL. Copy and save that for reference.\n",
    "\n",
    "If this is your first time downloading data, you'll see your API Key as well. Copy and save that for reference. Alternatively, you can issue a new key on that page if you need a new one (will invalidate your old one)."
   ]
  },
  {
   "cell_type": "markdown",
   "id": "ad0c6697-e0b4-418f-a927-1f056258b829",
   "metadata": {},
   "source": [
    "### 6. Download UV\n",
    "\n",
    "If you don't already have `uv` installed, install it: https://docs.astral.sh/uv/getting-started/installation/"
   ]
  },
  {
   "cell_type": "markdown",
   "id": "95ceb729-cbd4-4983-82ab-ca4bccf3f01a",
   "metadata": {},
   "source": [
    "### 7. Download the Dataset\n",
    "\n",
    "Suppose, in this example, `api_url` will probably be something like `\"https://api.deweydata.io/api/v1/external/data/cdst_INSERT_YOUR_PART_HERE\"` (you get this from the Dewey Web App).\n",
    "\n",
    "You'll need to paste whatever you get properly below in order for these examples to work, and then comment out the first `api_url = ` (or remove the line), and uncomment the bottom `api_url = ` below."
   ]
  },
  {
   "cell_type": "code",
   "execution_count": 1,
   "id": "7541e8e1-c33f-41b7-8580-456511fb3d5b",
   "metadata": {},
   "outputs": [],
   "source": [
    "api_url = \"https://api.deweydata.io/api/v1/external/data/cdst_69nriiuzp96tjqie\"\n",
    "# TODO: Paste your appropriate API URL, uncomment the below, and comment out or delete the above.\n",
    "# api_url = \"https://api.deweydata.io/api/v1/external/data/cdst_INSERT_YOUR_PART_HERE\""
   ]
  },
  {
   "cell_type": "markdown",
   "id": "fa77fba1-ef74-4300-90c9-365f411f5b99",
   "metadata": {},
   "source": [
    "#### 7.1 - Download the Dataset - Shell Method\n",
    "\n",
    "The easiest way to download the dataset is to use your preferred programming shell (I.E. iTerm2, Bash, Windows Terminal, Etc.).\n",
    "\n",
    "You should:\n",
    "* Navigate to the directory you want to analyze this data at (I.E. `cd your/directory/you/want`).\n",
    "* Make sure you have your API Key accessible from above.\n",
    "\n",
    "Then, from your shell/terminal, paste and edit this command as necessary:\n",
    "\n",
    "```\n",
    "# TODO (Dewey Team): Change to proper `uv run` or `uvx run` command \n",
    "python -m deweypy download {api_url}\n",
    "```\n",
    "\n",
    "You should replace `{api_url}` with the `api_url` value above, and `api_key` with your API Key."
   ]
  },
  {
   "cell_type": "markdown",
   "id": "d8735a45-e14c-435e-920b-90fa92da4f52",
   "metadata": {},
   "source": [
    "#### 7.2 - Download the Dataset - From Jupyter Notebook (Here) Method\n",
    "\n",
    "For now, this is fully documented or the implementation finalized. However, you may choose to instantiate an instance of `DatasetDownloader` and then call `download(...)` on it. For now, assume/expect this is subject to change as this is currently an internal class and method, but if you really want or need to do this all within the Jupyter notebook, this should work. The next shell shows how to do it."
   ]
  },
  {
   "cell_type": "code",
   "execution_count": 2,
   "id": "f2342839-176b-42b4-b1f8-c526e3c20ae6",
   "metadata": {},
   "outputs": [
    {
     "data": {
      "text/html": [
       "<pre style=\"white-space:pre;overflow-x:auto;line-height:normal;font-family:Menlo,'DejaVu Sans Mono',consolas,'Courier New',monospace\"><span style=\"color: #000080; text-decoration-color: #000080; font-weight: bold\">Overall</span> <span style=\"color: #3a3a3a; text-decoration-color: #3a3a3a\">━━━━━━━━━━━━━━━━━━━━━━━━━━━━━━━━━━━━━━━━━━━━━━━━━━━━━━━━━━━━━━━━━</span> <span style=\"color: #800080; text-decoration-color: #800080\">0.0%</span> • <span style=\"color: #008000; text-decoration-color: #008000\">0.0/3.4 GB</span> • <span style=\"color: #800000; text-decoration-color: #800000\">?</span> • <span style=\"color: #008080; text-decoration-color: #008080\">-:--:--</span> • <span style=\"color: #808000; text-decoration-color: #808000\">0:00:00</span>\n",
       "</pre>\n"
      ],
      "text/plain": [
       "\u001b[1;34mOverall\u001b[0m \u001b[38;5;237m━━━━━━━━━━━━━━━━━━━━━━━━━━━━━━━━━━━━━━━━━━━━━━━━━━━━━━━━━━━━━━━━━\u001b[0m \u001b[35m0.0%\u001b[0m • \u001b[32m0.0/3.4 GB\u001b[0m • \u001b[31m?\u001b[0m • \u001b[36m-:--:--\u001b[0m • \u001b[33m0:00:00\u001b[0m\n"
      ]
     },
     "metadata": {},
     "output_type": "display_data"
    },
    {
     "data": {
      "text/html": [
       "<pre style=\"white-space:pre;overflow-x:auto;line-height:normal;font-family:Menlo,'DejaVu Sans Mono',consolas,'Courier New',monospace\">\n",
       "<span style=\"color: #008000; text-decoration-color: #008000; font-weight: bold\">Download Complete!</span>\n",
       "</pre>\n"
      ],
      "text/plain": [
       "\n",
       "\u001b[1;32mDownload Complete!\u001b[0m\n"
      ]
     },
     "metadata": {},
     "output_type": "display_data"
    },
    {
     "data": {
      "text/html": [
       "<pre style=\"white-space:pre;overflow-x:auto;line-height:normal;font-family:Menlo,'DejaVu Sans Mono',consolas,'Courier New',monospace\">Files processed: <span style=\"color: #008080; text-decoration-color: #008080; font-weight: bold\">79</span>/<span style=\"color: #008080; text-decoration-color: #008080; font-weight: bold\">79</span>\n",
       "</pre>\n"
      ],
      "text/plain": [
       "Files processed: \u001b[1;36m79\u001b[0m/\u001b[1;36m79\u001b[0m\n"
      ]
     },
     "metadata": {},
     "output_type": "display_data"
    },
    {
     "data": {
      "text/html": [
       "<pre style=\"white-space:pre;overflow-x:auto;line-height:normal;font-family:Menlo,'DejaVu Sans Mono',consolas,'Courier New',monospace\">Successful downloads: <span style=\"color: #008080; text-decoration-color: #008080; font-weight: bold\">79</span>\n",
       "</pre>\n"
      ],
      "text/plain": [
       "Successful downloads: \u001b[1;36m79\u001b[0m\n"
      ]
     },
     "metadata": {},
     "output_type": "display_data"
    },
    {
     "data": {
      "text/html": [
       "<pre style=\"white-space:pre;overflow-x:auto;line-height:normal;font-family:Menlo,'DejaVu Sans Mono',consolas,'Courier New',monospace\">Failed downloads: <span style=\"color: #008080; text-decoration-color: #008080; font-weight: bold\">0</span>\n",
       "</pre>\n"
      ],
      "text/plain": [
       "Failed downloads: \u001b[1;36m0\u001b[0m\n"
      ]
     },
     "metadata": {},
     "output_type": "display_data"
    },
    {
     "data": {
      "text/html": [
       "<pre style=\"white-space:pre;overflow-x:auto;line-height:normal;font-family:Menlo,'DejaVu Sans Mono',consolas,'Courier New',monospace\">Bytes downloaded: <span style=\"color: #008080; text-decoration-color: #008080; font-weight: bold\">3</span>,<span style=\"color: #008080; text-decoration-color: #008080; font-weight: bold\">353</span>,<span style=\"color: #008080; text-decoration-color: #008080; font-weight: bold\">488</span>,<span style=\"color: #008080; text-decoration-color: #008080; font-weight: bold\">526</span>\n",
       "</pre>\n"
      ],
      "text/plain": [
       "Bytes downloaded: \u001b[1;36m3\u001b[0m,\u001b[1;36m353\u001b[0m,\u001b[1;36m488\u001b[0m,\u001b[1;36m526\u001b[0m\n"
      ]
     },
     "metadata": {},
     "output_type": "display_data"
    },
    {
     "data": {
      "text/html": [
       "<pre style=\"white-space:pre;overflow-x:auto;line-height:normal;font-family:Menlo,'DejaVu Sans Mono',consolas,'Courier New',monospace\">Bytes remaining: <span style=\"color: #008080; text-decoration-color: #008080; font-weight: bold\">0</span>\n",
       "</pre>\n"
      ],
      "text/plain": [
       "Bytes remaining: \u001b[1;36m0\u001b[0m\n"
      ]
     },
     "metadata": {},
     "output_type": "display_data"
    },
    {
     "data": {
      "text/html": [
       "<pre style=\"white-space:pre;overflow-x:auto;line-height:normal;font-family:Menlo,'DejaVu Sans Mono',consolas,'Courier New',monospace\"></pre>\n"
      ],
      "text/plain": []
     },
     "metadata": {},
     "output_type": "display_data"
    },
    {
     "data": {
      "text/html": [
       "<pre style=\"white-space:pre;overflow-x:auto;line-height:normal;font-family:Menlo,'DejaVu Sans Mono',consolas,'Courier New',monospace\">Data is downloaded!\n",
       "</pre>\n"
      ],
      "text/plain": [
       "Data is downloaded!\n"
      ]
     },
     "metadata": {},
     "output_type": "display_data"
    }
   ],
   "source": [
    "# If you really want to do this, change this value to `True`.\n",
    "DO_JUPYTER_DIRECT_DOWNLOAD: bool = False\n",
    "\n",
    "if DO_JUPYTER_DIRECT_DOWNLOAD:\n",
    "    import os\n",
    "    \n",
    "    from pathlib import Path\n",
    "    \n",
    "    from rich import print as rprint\n",
    "    \n",
    "    from deweypy.auth import set_api_key\n",
    "    from deweypy.downloads import DatasetDownloader, set_download_directory\n",
    "\n",
    "    set_api_key(\"TODO-PUT-YOUR-API-KEY-HERE\")\n",
    "    # TODO: If you want, change the download directory.\n",
    "    download_directory = Path(f\".{os.sep}dewey-downloads\")\n",
    "    if not download_directory.exists():\n",
    "        rprint(f\"Creating download directory {download_directory}...\")\n",
    "        download_directory.mkdir(parents=True)\n",
    "    set_download_directory(download_directory)\n",
    "\n",
    "    # TODO (Dewey Team): Replace this with `api_url` without splitting\n",
    "    # or whatever should be the main way to do this once it's all ready.\n",
    "    downloader = DatasetDownloader(api_url.rsplit(\"/\", 1)[-1])\n",
    "    downloader.download()"
   ]
  }
 ],
 "metadata": {
  "kernelspec": {
   "display_name": "Python 3 (ipykernel)",
   "language": "python",
   "name": "python3"
  },
  "language_info": {
   "codemirror_mode": {
    "name": "ipython",
    "version": 3
   },
   "file_extension": ".py",
   "mimetype": "text/x-python",
   "name": "python",
   "nbconvert_exporter": "python",
   "pygments_lexer": "ipython3",
   "version": "3.13.6"
  }
 },
 "nbformat": 4,
 "nbformat_minor": 5
}
